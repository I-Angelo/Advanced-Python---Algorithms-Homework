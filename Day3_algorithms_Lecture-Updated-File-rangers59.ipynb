{
 "cells": [
  {
   "cell_type": "markdown",
   "metadata": {},
   "source": [
    "# Algorithms, Binary Search & Linked Lists"
   ]
  },
  {
   "cell_type": "markdown",
   "metadata": {},
   "source": [
    "## Tasks Today:\n",
    " \n",
    "1) <b>In-Place Algorithms</b> <br>\n",
    " &nbsp;&nbsp;&nbsp;&nbsp; a) Syntax <br>\n",
    " &nbsp;&nbsp;&nbsp;&nbsp; a) Out of Place Algorithm <br>\n",
    " &nbsp;&nbsp;&nbsp;&nbsp; b) In-Class Exercise #1 <br>\n",
    "2) <b>Two Pointers</b> <br>\n",
    "3) <b>Linked Lists</b> <br>\n",
    "4) <b>Merge Sort</b> <br>\n",
    " &nbsp;&nbsp;&nbsp;&nbsp; a) Video on Algorithms <br>\n",
    " &nbsp;&nbsp;&nbsp;&nbsp; b) How it Works <br>\n",
    "5) <b>Exercises</b> <br>\n",
    " &nbsp;&nbsp;&nbsp;&nbsp; a) Exercise #1 - Reverse a List in Place Using an In-Place Algorithm <br>\n",
    " &nbsp;&nbsp;&nbsp;&nbsp; b) Exercise #2 - Find Distinct Words <br>\n",
    " &nbsp;&nbsp;&nbsp;&nbsp; c) Exercise #3 - Write a program to implement a Linear Search Algorithm. <br>"
   ]
  },
  {
   "cell_type": "markdown",
   "metadata": {},
   "source": [
    "## In-Place Algorithms"
   ]
  },
  {
   "cell_type": "markdown",
   "metadata": {},
   "source": [
    "#### Syntax"
   ]
  },
  {
   "cell_type": "code",
   "execution_count": 83,
   "metadata": {},
   "outputs": [
    {
     "name": "stdout",
     "output_type": "stream",
     "text": [
      "Before swap: [20, 4, 10, 31, 5, 78]\n",
      "After swap: [31, 4, 10, 20, 5, 78]\n"
     ]
    }
   ],
   "source": [
    "# var[i], var[i+1] = var[i+1], var[i]\n",
    "# Sometimes known as a swap algorithms\n",
    "\n",
    "def swap(a_list, x, y, z):\n",
    "    a_list[x], a_list[y], a_list[z] = a_list[z], a_list[y], a_list[x]\n",
    "    return a_list\n",
    "\n",
    "my_list = [20, 4, 10,31,5,78]\n",
    "print(f'Before swap: {my_list}') #Theres no additional memory utilized with a new var to change the order \n",
    "                                 #of the list\n",
    "\n",
    "# Swap\n",
    "# swap(my_list, 2, 0, 1)\n",
    "swap(my_list, 0, 1, 3)\n",
    "# swap(my_list, 1, 0, 2)\n",
    "# swap(my_list, 0, 1, 2)\n",
    "# swap(my_list, 1, 0, 2)\n",
    "# swap(my_list, 2, 1, 0)\n",
    "\n",
    "print(f'After swap: {my_list}')\n",
    "\n"
   ]
  },
  {
   "cell_type": "markdown",
   "metadata": {},
   "source": [
    "#### Out of Place Algorithm"
   ]
  },
  {
   "cell_type": "code",
   "execution_count": 27,
   "metadata": {},
   "outputs": [
    {
     "name": "stdout",
     "output_type": "stream",
     "text": [
      "[4, 10, 20]\n",
      "[20, 10, 4]\n",
      "Berfore  ['a', 'b', 'c', 'd']\n",
      "After  ['d', 'c', 'b', 'a']\n"
     ]
    }
   ],
   "source": [
    "# Not swapping, completely reversing BUT also copies to another place in memory\n",
    "\n",
    "my_list_copy = my_list[::-1]\n",
    "print(my_list_copy)  #In this case there is another variable created to store the results of the swap\n",
    "print(my_list)\n",
    "\n",
    "array = ['a', 'b', 'c', 'd']\n",
    "new_array = ['a'] * len(array)  #This initiates the 'new_array' with 'a' andtimes the length of the original\n",
    "                                # array 'array' , which is 4 in length. Why? So in the for-loop we dont get \n",
    "                                # 'IndexError: list assignment index out of range' error because python doesnt \n",
    "                                #know the length for the for-loop range for the new array, especially in the part\n",
    "                                # 'array[length - i]'.\n",
    "\n",
    "print(f'Berfore ', array)\n",
    "length = len(array) - 1         #If 'length' isnt stablished, the 'range(array)' part will give us an error because\n",
    "                                # 'array' is str() type and range() must be a number. SO we use 'length' as the \n",
    "                                # variable representing the length of our array (4) as it is in line 15\n",
    "\n",
    "for i in range(length):\n",
    "    new_array[i] = array[length - i]\n",
    "\n",
    "array = new_array\n",
    "print('After ', array)\n"
   ]
  },
  {
   "cell_type": "markdown",
   "metadata": {},
   "source": [
    "#### In-Class Exercise #1 <br>\n",
    "<p>Write a function that takes in four arguments (list, index1, index2, index3), and swaps those three positions in the list passed in.</p>"
   ]
  },
  {
   "cell_type": "code",
   "execution_count": 33,
   "metadata": {},
   "outputs": [
    {
     "name": "stdout",
     "output_type": "stream",
     "text": [
      "After swap : [3, 4, 10, 8, 4, 2, 6]\n"
     ]
    }
   ],
   "source": [
    "list_1 = [10, 4, 3, 8, 4, 2, 6]\n",
    "\n",
    "def swap1(list_1, x1, y1, z1):\n",
    "    list_1[x1], list_1[y1], list_1[z1] = list_1[z1], list_1[y1], list_1[x1]\n",
    "    return list_1\n",
    "\n",
    "swap1(list_1, 0, 1, 2)\n",
    "\n",
    "print(f'After swap : {list_1}')\n",
    "\n",
    "\n"
   ]
  },
  {
   "cell_type": "markdown",
   "metadata": {},
   "source": [
    "## Two Pointers"
   ]
  },
  {
   "cell_type": "markdown",
   "metadata": {},
   "source": [
    "#### Syntax"
   ]
  },
  {
   "cell_type": "code",
   "execution_count": 37,
   "metadata": {},
   "outputs": [
    {
     "data": {
      "text/plain": [
       "[22, 11, 4, 8, 9, 12, 3, 2, 1]"
      ]
     },
     "execution_count": 37,
     "metadata": {},
     "output_type": "execute_result"
    }
   ],
   "source": [
    "# alist[left], alist[right] = alist[right], alist[left]\n",
    "def twoPointers(alist):\n",
    "    #create pointers\n",
    "    left = 0\n",
    "    right = len(alist) - 1\n",
    "    #set up a loop that works through our list and swaps things one pair at a time\n",
    "    while left <= right:\n",
    "        alist[left], alist[right] = alist[right], alist[left]\n",
    "        left += 1\n",
    "        right -= 1\n",
    "    return alist\n",
    "\n",
    "my_list2 = [1,2,3,12,9,8,4,11,22]\n",
    "\n",
    "twoPointers(my_list2)"
   ]
  },
  {
   "cell_type": "markdown",
   "metadata": {},
   "source": [
    "#### Video of Algorithms <br>\n",
    "<p>Watch the video about algorithms.</p>\n",
    "\n",
    "https://www.youtube.com/watch?v=Q9HjeFD62Uk\n",
    "\n",
    "https://www.youtube.com/watch?v=kPRA0W1kECg\n",
    "\n",
    "https://www.youtube.com/watch?v=ZZuD6iUe3Pc"
   ]
  },
  {
   "cell_type": "markdown",
   "metadata": {},
   "source": [
    "# Sorting Algorithms"
   ]
  },
  {
   "cell_type": "markdown",
   "metadata": {},
   "source": [
    "#### Bubble Sort\n",
    "\n",
    "Worst Case: O(n^2) Time - O(1) Space"
   ]
  },
  {
   "cell_type": "code",
   "execution_count": 38,
   "metadata": {},
   "outputs": [
    {
     "data": {
      "text/plain": [
       "[1, 22, 34, 44, 55, 66, 88, 100]"
      ]
     },
     "execution_count": 38,
     "metadata": {},
     "output_type": "execute_result"
    }
   ],
   "source": [
    "# Best case: 0(n) - linear\n",
    "def swap(i, j, array):\n",
    "    array[i], array[j] = array[j], array[i]\n",
    "\n",
    "def bubbleSort(array):\n",
    "    isSorted = False\n",
    "    while not isSorted:\n",
    "        isSorted = True\n",
    "        for num in range(len(array) - 1):\n",
    "            if array[num] > array[num + 1]:\n",
    "                swap(num, num + 1, array)\n",
    "                isSorted = False\n",
    "    return array\n",
    "\n",
    "bubbleSort([22, 55, 88, 44, 1, 100, 34, 66])"
   ]
  },
  {
   "cell_type": "markdown",
   "metadata": {},
   "source": [
    "##### Insertion Sort\n",
    "\n",
    "Worst Case: O(n^2) time - O(1)space"
   ]
  },
  {
   "cell_type": "code",
   "execution_count": 40,
   "metadata": {},
   "outputs": [
    {
     "data": {
      "text/plain": [
       "[1, 22, 34, 44, 55, 66, 88, 100]"
      ]
     },
     "execution_count": 40,
     "metadata": {},
     "output_type": "execute_result"
    }
   ],
   "source": [
    "def swap(i, j, array):\n",
    "    array[i], array[j] = array[j], array[i]\n",
    "    \n",
    "def insertionSort(array):\n",
    "    for i in range(1, len(array)):\n",
    "        j = i\n",
    "        while j > 0 and array[j] < array[j - 1]:\n",
    "            swap(j, j - 1, array)\n",
    "            j -= 1\n",
    "    return array\n",
    "\n",
    "insertionSort([22, 55, 88, 44, 1, 100, 34, 66])"
   ]
  },
  {
   "cell_type": "markdown",
   "metadata": {},
   "source": [
    "## Merge Sort"
   ]
  },
  {
   "cell_type": "markdown",
   "metadata": {},
   "source": [
    "#### How it Works"
   ]
  },
  {
   "cell_type": "code",
   "execution_count": 59,
   "metadata": {},
   "outputs": [
    {
     "name": "stdout",
     "output_type": "stream",
     "text": [
      "Splitting... [0, 18, 1, 9, 16]\n",
      "Splitting... [0, 18]\n",
      "Splitting... [0]\n",
      "Merging... [0]\n",
      "Splitting... [18]\n",
      "Merging... [18]\n",
      "Merging... [0, 18]\n",
      "Splitting... [1, 9, 16]\n",
      "Splitting... [1]\n",
      "Merging... [1]\n",
      "Splitting... [9, 16]\n",
      "Splitting... [9]\n",
      "Merging... [9]\n",
      "Splitting... [16]\n",
      "Merging... [16]\n",
      "Merging... [9, 16]\n",
      "Merging... [1, 9, 16]\n",
      "Merging... [0, 1, 9, 16, 18]\n"
     ]
    },
    {
     "data": {
      "text/plain": [
       "[0, 1, 9, 16, 18]"
      ]
     },
     "execution_count": 59,
     "metadata": {},
     "output_type": "execute_result"
    }
   ],
   "source": [
    "# Step 1: Split everything into it's own group\n",
    "# Step 2: From left to right, mergr two groups together\n",
    "# Step 3: While merging, place each item in the correct position within the merged group\n",
    "# Step 4: Continue steps 3-4 until one group is left.\n",
    "\n",
    "from random import randint\n",
    "# used to generate a random list of 5 numbers from 0 - 20\n",
    "nums = [randint(0,20) for i in range(5)]\n",
    "\n",
    "# Write our merge sort below\n",
    "def mergeSort(alist):\n",
    "    print('Splitting...', alist)\n",
    "    \n",
    "    # Step 1: Divide the array into equal parts (as much as possible)\n",
    "    if len(alist) > 1:\n",
    "        mid = len(alist) // 2\n",
    "#         print(mid)\n",
    "        lefthalf = alist[:mid]\n",
    "        righthalf = alist[mid:]\n",
    "        \n",
    "        # recursively call mergeSort to perform splits if needed\n",
    "        # THEN merge once the splits are done\n",
    "        mergeSort(lefthalf)\n",
    "        mergeSort(righthalf)\n",
    "        \n",
    "        # Index pointers for our list\n",
    "        i = 0 # pointer for our left half\n",
    "        j = 0 # pointer for our right half\n",
    "        k = 0 # pointer for our main array\n",
    "        \n",
    "        # Step 2: Compare the lefthalf and the righthalf\n",
    "        while i < len(lefthalf) and j < len(righthalf):\n",
    "            if lefthalf[i] < righthalf[j]:\n",
    "                alist[k] = lefthalf[i]\n",
    "                i = i + 1\n",
    "            else:\n",
    "                alist[k] = righthalf[j]\n",
    "                j = j + 1\n",
    "            k = k + 1\n",
    "        \n",
    "        # Step 3: While merging, place items in the correct positions\n",
    "        while i < len(lefthalf):\n",
    "            alist[k] = lefthalf[i]\n",
    "            i = i + 1\n",
    "            k = k + 1\n",
    "        while j < len(righthalf):\n",
    "            alist[k] = righthalf[j]\n",
    "            j = j + 1\n",
    "            k = k + 1\n",
    "                \n",
    "    print('Merging...', alist)\n",
    "    return alist\n",
    "\n",
    "mergeSort(nums)\n",
    "            \n",
    "        "
   ]
  },
  {
   "cell_type": "markdown",
   "metadata": {},
   "source": [
    "# Binary Search\n",
    "\n",
    "The Binary Search algorithm works by finding the number in the middle of a given array and comparing it to the target. Given that the array is sorted\n",
    "\n",
    "* The worst case run time for this algorithm is `O(log(n))`"
   ]
  },
  {
   "cell_type": "code",
   "execution_count": 73,
   "metadata": {},
   "outputs": [
    {
     "name": "stdout",
     "output_type": "stream",
     "text": [
      "6\n"
     ]
    },
    {
     "data": {
      "text/plain": [
       "'The Index is ... 1'"
      ]
     },
     "execution_count": 73,
     "metadata": {},
     "output_type": "execute_result"
    }
   ],
   "source": [
    "#  Less = left\n",
    "# Greater = right\n",
    "# List of numbers MUST be sorted!!!!!!!!!\n",
    "\n",
    "def binarySearchHelperFunction(array, target, left, right):\n",
    "    while left <= right:                #since left = 0 and right is equal to 5, then its True\n",
    "        middle = (left + right) // 2    #middle is equal to (0 + 5) // (floor) 2 which is equal to 2 (index 2)\n",
    "                                        #(remember that 'right' is len(array) -1 which is 6 - 1)\n",
    "        potentialMatch = array[middle] # PotMat is equal to index 2 or [value in index 2] which is 55\n",
    "        if target == potentialMatch:    #Is 44 equalk to 55 ? No\n",
    "            return f'The Index is ... {middle}'\n",
    "        elif target < potentialMatch:    #44 is less than 55 \n",
    "            right = middle - 1        # since 'middle ' was 2 as in line 7, then we subtract 1 . Now is 2 -1 = 1\n",
    "        else:                            # and goes back to the start of the 'while-loop' in line 6\n",
    "            left = middle + 1 \n",
    "    return -1\n",
    "\n",
    "def binarySearch(array, target):\n",
    "    return binarySearchHelperFunction(array, target, 0, len(array) - 1)\n",
    "\n",
    "ar1 = [22,44,55,66,88,100]\n",
    "print(len(ar1))\n",
    "\n",
    "binarySearch([22,44,55,66,88,100], 44)  # Our list is '22,44,55,66,88,100' and our target is '44'. We are looking\n",
    "                                        # for 44.\n",
    "#     Also we are passing the values '0' as our 'left' value and 'len(array) - 1' as our 'right' value. All these\n",
    "# values are passed on from 'binarySearch' function onto 'binarySearchHelperFunction'.\n",
    "\n",
    "# So 'binarySearchHelperFunction' takes in the array and the target. while the value 'left' is smaller than the\n",
    "# value of right , which each are the two halves of the array, (remnember that we are going oto divide the \n",
    "# array in two, as it is on line 7), "
   ]
  },
  {
   "cell_type": "markdown",
   "metadata": {},
   "source": [
    "# Exercises"
   ]
  },
  {
   "cell_type": "markdown",
   "metadata": {},
   "source": [
    "### Exercise #1 <br>\n",
    "<p>Reverse the list below in-place using an in-place algorithm.<br>For extra credit: Reverse the strings at the same time.</p>"
   ]
  },
  {
   "cell_type": "code",
   "execution_count": 91,
   "metadata": {},
   "outputs": [
    {
     "name": "stdout",
     "output_type": "stream",
     "text": [
      "['.', 'ecnetnes', 'a', 'si', 'siht']\n"
     ]
    }
   ],
   "source": [
    "words = ['this' , 'is', 'a', 'sentence', '.']\n",
    "wordsI = ['this' , 'is', 'a', 'sentence', '.']\n",
    "\n",
    "# wrds_len = len(words) - 1\n",
    "\n",
    "# for i in range(wrds_len // 2 + 1):\n",
    "#     sp = words[i]\n",
    "#     sp2 = words[wrds_len - i]\n",
    "#     words[i] = sp2[::-1]\n",
    "#     words[wrds_len - i] = sp[::-1] \n",
    "\n",
    "# print(words)\n",
    "\n",
    "\n",
    "def swapWords(words, v, w, x, y, z):\n",
    "    words[v], words[w], words[x], words[y], words[z] = words[z][::-1], words[y][::-1], words[x][::-1], words[w][::-1], words[v][::-1]\n",
    "    return words\n",
    "\n",
    "swapWords(words, 0, 1, 2, 3, 4)\n",
    "print(words)\n",
    "\n"
   ]
  },
  {
   "cell_type": "markdown",
   "metadata": {},
   "source": [
    "### Exercise #2 <br>\n",
    "<p>Create a function that counts how many distinct words are in the string below, then outputs a dictionary with the words as the key and the value as the amount of times that word appears in the string.<br>Should output:<br>{'a': 5,<br>\n",
    " 'abstract': 1,<br>\n",
    " 'an': 3,<br>\n",
    " 'array': 2, ... etc...</p>"
   ]
  },
  {
   "cell_type": "code",
   "execution_count": null,
   "metadata": {},
   "outputs": [],
   "source": [
    "a_text = 'In computing, a hash table hash map is a data structure which implements an associative array abstract data type, a structure that can map keys to values. A hash table uses a hash function to compute an index into an array of buckets or slots from which the desired value can be found'\n",
    "\n"
   ]
  },
  {
   "cell_type": "markdown",
   "metadata": {},
   "source": [
    "## Exercise #3\n",
    "\n",
    "Write a program to implement a Linear Search Algorithm. Also in a comment, write the Time Complexity of the following algorithm.\n",
    "\n",
    "#### Hint: Linear Searching will require searching a list for a given number. "
   ]
  },
  {
   "cell_type": "code",
   "execution_count": 93,
   "metadata": {},
   "outputs": [
    {
     "data": {
      "text/plain": [
       "'not found'"
      ]
     },
     "execution_count": 93,
     "metadata": {},
     "output_type": "execute_result"
    }
   ],
   "source": [
    "\n",
    "def lookingFor(num, list100):\n",
    "    if num in list100:\n",
    "        return f'Found it!'\n",
    "    else:\n",
    "        return f'not found'\n",
    "        \n",
    "list100 = [1,5,8,9,11,44,36,4,76,20,99,67]        \n",
    "lookingFor(100, list100)"
   ]
  }
 ],
 "metadata": {
  "kernelspec": {
   "display_name": "Python 3.10.5 64-bit",
   "language": "python",
   "name": "python3"
  },
  "language_info": {
   "codemirror_mode": {
    "name": "ipython",
    "version": 3
   },
   "file_extension": ".py",
   "mimetype": "text/x-python",
   "name": "python",
   "nbconvert_exporter": "python",
   "pygments_lexer": "ipython3",
   "version": "3.10.5"
  },
  "vscode": {
   "interpreter": {
    "hash": "aee8b7b246df8f9039afb4144a1f6fd8d2ca17a180786b69acc140d282b71a49"
   }
  }
 },
 "nbformat": 4,
 "nbformat_minor": 2
}
